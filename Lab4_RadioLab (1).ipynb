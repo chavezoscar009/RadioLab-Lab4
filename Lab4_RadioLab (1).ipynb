{
 "cells": [
  {
   "cell_type": "code",
   "execution_count": 82,
   "metadata": {
    "scrolled": true
   },
   "outputs": [],
   "source": [
    "from __future__ import division\n",
    "import numpy as np\n",
    "import glob\n",
    "import pylab as plt\n",
    "from astropy.io import fits\n",
    "import astropy\n",
    "import barycorrpy"
   ]
  },
  {
   "cell_type": "markdown",
   "metadata": {},
   "source": [
    "Working on the coordinate array to make pointing more automatic.\n",
    "I was thinking maybe we can for loop this into the pointing somehow.\n",
    "\n",
    "Like in the data acquisition section for-looping through the coordinates and maybe using the coordinates in the filename to easily distinguish them as well."
   ]
  },
  {
   "cell_type": "code",
   "execution_count": 74,
   "metadata": {},
   "outputs": [],
   "source": [
    "def get_projected_velocity(ra, dec, jd, obs_lat=37.9183, obs_lon=-122.1067, \n",
    "        obs_alt=304, epoch=2451545.):\n",
    "    '''Compute the projected velocity of the telescope wrt the \n",
    "    Local Standard of Rest.\n",
    "    Parameters\n",
    "    ----------\n",
    "    ra, dec : float degrees, the RA/DEC of target\n",
    "    jd      : float, julian date (UTC) of the observation\n",
    "    obs_lat : float degrees, latitude of observatory, default=nch.lat\n",
    "    obs_lon : float degrees, longitude of observatory, default=nch.lon\n",
    "    obs_alt : float meters, altitude of observatory, default=nch.alt\n",
    "    epoch   : float, julian date epoch of ra/dec coordinates\n",
    "              default=2451545 is J2000\n",
    "    Returns\n",
    "    -------\n",
    "    v : float m/s, barycenter-corrected radial velocity,\n",
    "        see (Wright & Eastman, 2014) '''\n",
    "    jd_utc = astropy.time.Time(jd, format='jd', scale='utc')\n",
    "    proper_motion_ra = 0. # proper motion in ra, mas/yr\n",
    "    proper_motion_dec = 0. # proper motion in dec, mas/yr\n",
    "    parallax = 0. # parallax of target in mas\n",
    "    rv = 0. # radial velocity of target in m/s\n",
    "    zmeas = 0. # measured redshift of spectrum\n",
    "    ephemeris = 'de430' # ephemeris from jplephem, ~100MB download first use\n",
    "    v, warn, flag = barycorrpy.get_BC_vel(JDUTC=jd_utc, ra=ra, dec=dec, \n",
    "        lat=obs_lat, longi=obs_lon, alt=obs_alt,\n",
    "        pmra=proper_motion_ra, pmdec=proper_motion_dec,\n",
    "        px=parallax, rv=rv, zmeas=zmeas,\n",
    "        epoch=epoch, ephemeris=ephemeris, leap_update=False)\n",
    "    return v"
   ]
  },
  {
   "cell_type": "code",
   "execution_count": 2,
   "metadata": {},
   "outputs": [],
   "source": [
    "l = np.linspace(60, 110, 26)\n",
    "b = np.linspace(-90, -30, 31)"
   ]
  },
  {
   "cell_type": "code",
   "execution_count": 3,
   "metadata": {},
   "outputs": [],
   "source": [
    "#list that will hold the coordinates for the observation\n",
    "coords = []\n",
    "#counter to make sure that every other value needs to be reversed. Used in the forloop below\n",
    "N = 1\n",
    "\n",
    "#for loop that loops through the coordinates and assigns them to the coords list\n",
    "for i in range(len(l)):\n",
    "    \n",
    "    for j in range(len(b)):\n",
    "        \n",
    "        #this if statement hecks to see if the N value is divisible by 2 we do this to\n",
    "        #flip the order of the vertical component of the observation \n",
    "        if N % 2 == 0:\n",
    "            \n",
    "            coords.append(np.array([l[i], b[-1 * (j+1)]]))\n",
    "        \n",
    "        else:\n",
    "            coords.append(np.array([l[i], b[j]]))\n",
    "    \n",
    "    #increments the counter        \n",
    "    N += 1    "
   ]
  },
  {
   "cell_type": "code",
   "execution_count": 222,
   "metadata": {},
   "outputs": [],
   "source": [
    "#me checking to see if the for loop did its job i should expect to see\n",
    "#    [60, -30]\n",
    "#    [62, -30]\n",
    "# \n",
    "#    [62, -90]\n",
    "#    [64, -90]\n",
    "#\n",
    "#Which I see and that is very awesome :D!!!\n",
    "#FIERRROOOO!!!!!!!!!!!\n",
    "\n",
    "#MUST EMPHASIZE THIS USES GALACTIC COORDINATES BUT SHOULD BE EASY TO TRANSLATE INTO (RA,DEC)\n",
    "\n",
    "#for i in coords:\n",
    "#    print(i)"
   ]
  },
  {
   "cell_type": "markdown",
   "metadata": {},
   "source": [
    "This is gonna be where I work on the 2D data for when we have the Magellenic data.\n",
    "\n",
    "This is gonna be the matrix that has b-rows and l-columns.\n",
    "\n",
    "b by l"
   ]
  },
  {
   "cell_type": "code",
   "execution_count": 4,
   "metadata": {},
   "outputs": [],
   "source": [
    "font = {'family' : 'normal',\n",
    "        'weight' : 'bold',\n",
    "        'size'   : 15}"
   ]
  },
  {
   "cell_type": "code",
   "execution_count": 5,
   "metadata": {},
   "outputs": [],
   "source": [
    "plt.rc('font', **font)"
   ]
  },
  {
   "cell_type": "code",
   "execution_count": 6,
   "metadata": {},
   "outputs": [],
   "source": [
    "ll, bb = np.meshgrid(l,b)"
   ]
  },
  {
   "cell_type": "code",
   "execution_count": 7,
   "metadata": {},
   "outputs": [
    {
     "name": "stdout",
     "output_type": "stream",
     "text": [
      "row:  31\n",
      "column:  26\n"
     ]
    }
   ],
   "source": [
    "print('row: ', len(bb[:,0]))\n",
    "print('column: ', len(bb[0,:]))"
   ]
  },
  {
   "cell_type": "markdown",
   "metadata": {},
   "source": [
    "MAKING AN EMPTY MATRIX WITH THE SAME ROW AND COLUMNS AS ABOVE\n",
    "\n",
    "THIS WILL HOLD THE INFORMATION FOR THE DATA GATHERED FROM OUR OBSERVATIONS"
   ]
  },
  {
   "cell_type": "code",
   "execution_count": 8,
   "metadata": {},
   "outputs": [],
   "source": [
    "matrix = np.zeros((31,26))"
   ]
  },
  {
   "cell_type": "code",
   "execution_count": 9,
   "metadata": {},
   "outputs": [],
   "source": [
    "#MAKING TWO LISTS ONE THAT HOLDS THE GALACTIC COORDINATES LABELED AS:\n",
    "#lb_val\n",
    "#AND ANOTHER ONE CALLED INDEXES WHICH IS WHERE THE INDEX ARE IN THE MESHGRID ARRAY\n",
    "\n",
    "lb_val = []\n",
    "indexes = []\n",
    "\n",
    "for i in range(len(ll[:,0])):\n",
    "    for j in range(len(bb[0,:])):\n",
    "        \n",
    "        #HOLDING THE ROW INDEX\n",
    "        row = i\n",
    "        #HOLDS THE COLUMN INDEX\n",
    "        column = j\n",
    "        \n",
    "        #HOLDS THE INDEX IN A LIST\n",
    "        index = [i,j]\n",
    "        \n",
    "        #APPENDING THE VALUE FOR LL AND BB INTO THE [L,B] GALACTIC COORDINATES\n",
    "        lb_val.append([ll[i,j], bb[i,j]])\n",
    "        indexes.append(index)"
   ]
  },
  {
   "cell_type": "code",
   "execution_count": 221,
   "metadata": {},
   "outputs": [],
   "source": [
    "#for i in range(len(lb_val)):\n",
    " #   print(lb_val[i], indexes[i])"
   ]
  },
  {
   "cell_type": "code",
   "execution_count": 72,
   "metadata": {},
   "outputs": [
    {
     "data": {
      "text/plain": [
       "Text(0, 0.5, 'Galactic Latitude (b)')"
      ]
     },
     "execution_count": 72,
     "metadata": {},
     "output_type": "execute_result"
    },
    {
     "data": {
      "image/png": "[encoded data removed]",
      "text/plain": [
       "<Figure size 720x720 with 1 Axes>"
      ]
     },
     "metadata": {
      "needs_background": "light"
     },
     "output_type": "display_data"
    }
   ],
   "source": [
    "plt.figure(figsize = (10,10))\n",
    "plt.title('Galactic Map', fontsize = 15, weight = 'semibold')\n",
    "plt.imshow(matrix, origin = 'lower', extent=[60,110,-90,-30])\n",
    "plt.xlabel('Galactic Longitude (l)', fontsize = 15, weight = 'semibold')\n",
    "plt.ylabel('Galactic Latitude (b)', fontsize = 15, weight = 'semibold')"
   ]
  },
  {
   "cell_type": "markdown",
   "metadata": {},
   "source": [
    "Making functions that automates the data collection and places them into the respective latitude and longitude on the imshow plot\n",
    "\n",
    "For us our data will be in the form of jddd.ddd.l.b.fits\n",
    "\n",
    "What we are interested in is extracting the l and b from the fits name so that we can correctly place them in the plots"
   ]
  },
  {
   "cell_type": "code",
   "execution_count": 197,
   "metadata": {},
   "outputs": [],
   "source": [
    "def frequency(hdu, data):\n",
    "    '''\n",
    "    Function that generates a frequency array the length of data\n",
    "    \n",
    "    Parameter\n",
    "    ---------\n",
    "    \n",
    "    data: the data we are trying to get the frquency array for\n",
    "    \n",
    "    Output\n",
    "    ---------\n",
    "    freq: frequency array with the given sampling frequency of 96 MHz\n",
    "    '''\n",
    "    nu_samp = hdu[0].header['SAMPRATE']\n",
    "    \n",
    "    freq = np.fft.fftfreq(len(data), d = 1/nu_samp)\n",
    "    \n",
    "    return freq/1e6 +150"
   ]
  },
  {
   "cell_type": "code",
   "execution_count": 74,
   "metadata": {},
   "outputs": [],
   "source": [
    "#The code below extracts all the fits files from the directory into the variable name files"
   ]
  },
  {
   "cell_type": "code",
   "execution_count": 224,
   "metadata": {},
   "outputs": [],
   "source": [
    "files = np.sort(np.array([f for f in glob.glob(\"*.fits\")]))"
   ]
  },
  {
   "cell_type": "code",
   "execution_count": 226,
   "metadata": {},
   "outputs": [
    {
     "name": "stdout",
     "output_type": "stream",
     "text": [
      "['2458597.01482.60.0.-30.0.fits' '2458597.01482.60.0.-32.0.fits'\n",
      " '2458597.01482.60.0.-34.0.fits' '2458597.01482.60.0.-36.0.fits'\n",
      " '2458597.01482.60.0.-38.0.fits' '2458597.01482.60.0.-40.0.fits'\n",
      " '2458597.01482.60.0.-42.0.fits' '2458597.01482.60.0.-44.0.fits'\n",
      " '2458597.01482.60.0.-46.0.fits' '2458597.01482.60.0.-48.0.fits'\n",
      " '2458597.01482.60.0.-50.0.fits' '2458597.01482.60.0.-52.0.fits'\n",
      " 'noise_off.fits' 'noise_on.fits']\n"
     ]
    }
   ],
   "source": [
    "print(files)"
   ]
  },
  {
   "cell_type": "code",
   "execution_count": 227,
   "metadata": {},
   "outputs": [],
   "source": [
    "cal_files = ['noise_off.fits', 'noise_on.fits']"
   ]
  },
  {
   "cell_type": "code",
   "execution_count": 228,
   "metadata": {},
   "outputs": [],
   "source": [
    "noise_file_filter = np.ones(len(files), dtype = bool)\n",
    "\n",
    "for i in range(len(files)):\n",
    "    \n",
    "    if cal_files[0] == files[i]:\n",
    "        noise_file_filter[i] = False\n",
    "    if cal_files[1] == files[i]:\n",
    "        noise_file_filter[i] = False\n",
    "\n",
    "spec_files = files[noise_file_filter]"
   ]
  },
  {
   "cell_type": "code",
   "execution_count": 229,
   "metadata": {},
   "outputs": [
    {
     "name": "stdout",
     "output_type": "stream",
     "text": [
      "['2458597.01482.60.0.-30.0.fits' '2458597.01482.60.0.-32.0.fits'\n",
      " '2458597.01482.60.0.-34.0.fits' '2458597.01482.60.0.-36.0.fits'\n",
      " '2458597.01482.60.0.-38.0.fits' '2458597.01482.60.0.-40.0.fits'\n",
      " '2458597.01482.60.0.-42.0.fits' '2458597.01482.60.0.-44.0.fits'\n",
      " '2458597.01482.60.0.-46.0.fits' '2458597.01482.60.0.-48.0.fits'\n",
      " '2458597.01482.60.0.-50.0.fits' '2458597.01482.60.0.-52.0.fits']\n"
     ]
    }
   ],
   "source": [
    "print(spec_files)"
   ]
  },
  {
   "cell_type": "code",
   "execution_count": 31,
   "metadata": {},
   "outputs": [],
   "source": [
    "hd = fits.open(files[0])\n",
    "hdr = hd[0].header"
   ]
  },
  {
   "cell_type": "code",
   "execution_count": 206,
   "metadata": {},
   "outputs": [],
   "source": [
    "#print(repr(hdr))"
   ]
  },
  {
   "cell_type": "code",
   "execution_count": 284,
   "metadata": {},
   "outputs": [],
   "source": [
    "def Gain(s_cal, s_cold):\n",
    "    \n",
    "    '''\n",
    "    Function that calculates the gain for the telescope\n",
    "    \n",
    "    Parameters\n",
    "    ------------\n",
    "    s_cal: calibrated data, this should be the one with the noise added\n",
    "    s_cold: non-calibrated data just the telescope pointing in an arbitrary direction\n",
    "    \n",
    "    Ouptut\n",
    "    ------------\n",
    "    G: the gain calculated for the telescope which we multiply all our power spectrum by\n",
    "    '''\n",
    "\n",
    "    #the temperature we used for the calibration we we use as 30K for the T_cal and T_cold as space 2.73K       \n",
    "    T_cal = 30\n",
    "    T_cold = 2.73\n",
    "\n",
    "    #getting the difference\n",
    "    diff = s_cal-s_cold\n",
    "\n",
    "    #calculating the Gain\n",
    "    G = ((T_cal - T_cold)/(np.sum(diff))) * np.sum(s_cold)\n",
    "    \n",
    "    return G"
   ]
  },
  {
   "cell_type": "code",
   "execution_count": 17,
   "metadata": {},
   "outputs": [],
   "source": [
    "def Num_Spec(hdu):\n",
    "    \n",
    "    '''\n",
    "    Function that returns the number of spectrums we have in our FITS file\n",
    "    \n",
    "    Parameter\n",
    "    ----------\n",
    "    hdu: the hdu for the data we want to get\n",
    "    \n",
    "    Output\n",
    "    ----------\n",
    "    The number of samples we used \n",
    "    '''\n",
    "    \n",
    "    N = hdu[0].header['NSPEC']\n",
    "    \n",
    "    return N"
   ]
  },
  {
   "cell_type": "code",
   "execution_count": 223,
   "metadata": {},
   "outputs": [],
   "source": [
    "def T_power(line, G):\n",
    "    \n",
    "    '''\n",
    "    Function that calculates the intensity of the power spectrum given the spectrum and gain value\n",
    "    \n",
    "    Parameter\n",
    "    -----------\n",
    "    line: the spectrum we will multiply by the gain\n",
    "    G: the gain of the telescope\n",
    "    \n",
    "    Output\n",
    "    -----------\n",
    "    power: the final calibrated intesnity of the object in units of temperature\n",
    "    '''\n",
    "    #getting the final intensity power\n",
    "    power = line * G\n",
    "\n",
    "    return power"
   ]
  },
  {
   "cell_type": "code",
   "execution_count": 33,
   "metadata": {},
   "outputs": [],
   "source": [
    "def fit(data, freq):\n",
    "    \n",
    "    '''\n",
    "    Function to fit the data we collected form the telescope and fit a quadratic to the data\n",
    "    \n",
    "    We use scipy's curve_fit to optimize the parameters for the quadratic\n",
    "    \n",
    "    Parameter\n",
    "    -----------\n",
    "    \n",
    "    data: This is the power spectrum data\n",
    "    freq: the frequency array for the data\n",
    "    \n",
    "    Output\n",
    "    -----------\n",
    "    outputs the best fit line as an array \n",
    "    \n",
    "    '''\n",
    "    \n",
    "    #making a model for which we are trying to optimize in this case this is a quadratic equation\n",
    "    def model(x, a, b, c):\n",
    "        return a*x**2 + b*x + c\n",
    "    \n",
    "    #using curve_fit to get the optimized values for a, b, c in the quadratic equation\n",
    "    param, covar = curve_fit(model, np.fft.fftshift(freq), data)\n",
    "    \n",
    "    return model(np.fft.fftshift(freq), param[0], param[1], param[2])    "
   ]
  },
  {
   "cell_type": "code",
   "execution_count": 275,
   "metadata": {},
   "outputs": [],
   "source": [
    "def data(hdu):\n",
    "    \n",
    "    '''\n",
    "    Function that calculates the average power spectrum from the N samples that we took\n",
    "    We do this to reduce the noise in the power spectrum\n",
    "    \n",
    "    Parameters\n",
    "    ----------\n",
    "    \n",
    "    hdu: the hdu for the data we are tyring to find the average power spectrum for\n",
    "    N: the number of integrated samples we took\n",
    "    \n",
    "    Output\n",
    "    ----------\n",
    "    \n",
    "    avg: this is the averaged power spectrum over the N samples\n",
    "    '''\n",
    "    \n",
    "    N = hdu[0].header['NSPEC']\n",
    "    nu_samp = int(hdu[0].header['SAMPRATE'])\n",
    "    \n",
    "    #this is a counter variable for the while loop\n",
    "    M = 1\n",
    "    \n",
    "    #variable that will hold the averaged power spectrum for one polarization and another\n",
    "    data = 0\n",
    "    data_pol = 0\n",
    "    \n",
    "    #while loop that does the summation\n",
    "    while M <= N:\n",
    "        \n",
    "        data += hdu[M].data['auto0_real']\n",
    "        data_pol += hdu[M].data['auto1_real']\n",
    "        M+=1\n",
    "    \n",
    "    #calculates the average of each power spectrum\n",
    "    avg = data/N\n",
    "    avg_pol = data_pol/N\n",
    "    \n",
    "    sum_avg = (avg+avg_pol)/2\n",
    "    \n",
    "    #freq = np.fft.fftfreq(sum_avg, d = 1 / nu_samp)\n",
    "    \n",
    "    #making a model for which we are trying to optimize in this case this is a quadratic equation\n",
    "    #def model(x, a, b, c):\n",
    "     #   return a*x**2 + b*x + c\n",
    "    \n",
    "    #using curve_fit to get the optimized values for a, b, c in the quadratic equation\n",
    "    #param, covar = curve_fit(model, np.fft.fftshift(freq), data)\n",
    "    \n",
    "    med_spec = medfilt(avg, kernel_size = 5)\n",
    "    med_pol_spec = medfilt(avg_pol, kernel_size = 5)\n",
    "    spec = medfilt(sum_avg, kernel_size = 5)\n",
    "    \n",
    "    return spec"
   ]
  },
  {
   "cell_type": "markdown",
   "metadata": {},
   "source": [
    "---"
   ]
  },
  {
   "cell_type": "markdown",
   "metadata": {},
   "source": [
    "Working on Noise/Calibration data"
   ]
  },
  {
   "cell_type": "markdown",
   "metadata": {},
   "source": [
    "---"
   ]
  },
  {
   "cell_type": "code",
   "execution_count": 230,
   "metadata": {},
   "outputs": [],
   "source": [
    "hdu1 = fits.open(cal_files[0])#Noise Off Data\n",
    "hdu2 = fits.open(cal_files[1]) #Noise On Data"
   ]
  },
  {
   "cell_type": "code",
   "execution_count": 262,
   "metadata": {},
   "outputs": [],
   "source": [
    "cal = hdu1[3].data['auto1_real']"
   ]
  },
  {
   "cell_type": "code",
   "execution_count": 263,
   "metadata": {},
   "outputs": [
    {
     "data": {
      "text/plain": [
       "[<matplotlib.lines.Line2D at 0x121f1c588>]"
      ]
     },
     "execution_count": 263,
     "metadata": {},
     "output_type": "execute_result"
    },
    {
     "data": {
      "image/png": "[encoded data removed]",
      "text/plain": [
       "<Figure size 432x288 with 1 Axes>"
      ]
     },
     "metadata": {
      "needs_background": "light"
     },
     "output_type": "display_data"
    }
   ],
   "source": [
    "plt.plot(cal)\n",
    "\n",
    "plt.plot(cal_spec)"
   ]
  },
  {
   "cell_type": "code",
   "execution_count": 276,
   "metadata": {},
   "outputs": [],
   "source": [
    "cold_spec = data(hdu1)\n",
    "cal_spec = data(hdu2)"
   ]
  },
  {
   "cell_type": "code",
   "execution_count": 282,
   "metadata": {},
   "outputs": [
    {
     "data": {
      "text/plain": [
       "<matplotlib.legend.Legend at 0x1203b3b70>"
      ]
     },
     "execution_count": 282,
     "metadata": {},
     "output_type": "execute_result"
    },
    {
     "data": {
      "image/png": "[encoded data removed]",
      "text/plain": [
       "<Figure size 864x576 with 1 Axes>"
      ]
     },
     "metadata": {
      "needs_background": "light"
     },
     "output_type": "display_data"
    }
   ],
   "source": [
    "fig = plt.figure(figsize = (12,8))\n",
    "\n",
    "ax1 = fig.add_subplot(111)\n",
    "ax1.plot(cal_spec, label = 'cal')\n",
    "ax1.plot(cold_spec, label = 'cold')\n",
    "ax1.legend()\n",
    "\n",
    "#ax2 = fig.add_subplot(212)\n",
    "#ax2.plot(cold_spec, label = 'cold')\n",
    "#ax2.plot(cold_spec_pol, label = 'cold-pol')\n",
    "#ax2.legend()"
   ]
  },
  {
   "cell_type": "code",
   "execution_count": 286,
   "metadata": {},
   "outputs": [
    {
     "name": "stdout",
     "output_type": "stream",
     "text": [
      "86.78662567660604\n"
     ]
    }
   ],
   "source": [
    "G = Gain(cal_spec, cold_spec)\n",
    "print(G)"
   ]
  },
  {
   "cell_type": "code",
   "execution_count": 283,
   "metadata": {},
   "outputs": [
    {
     "data": {
      "text/plain": [
       "[<matplotlib.lines.Line2D at 0x129a7d828>]"
      ]
     },
     "execution_count": 283,
     "metadata": {},
     "output_type": "execute_result"
    },
    {
     "data": {
      "image/png": "[encoded data removed]",
      "text/plain": [
       "<Figure size 864x576 with 1 Axes>"
      ]
     },
     "metadata": {
      "needs_background": "light"
     },
     "output_type": "display_data"
    }
   ],
   "source": []
  },
  {
   "cell_type": "code",
   "execution_count": 45,
   "metadata": {},
   "outputs": [],
   "source": [
    "from scipy.optimize import curve_fit"
   ]
  },
  {
   "cell_type": "code",
   "execution_count": 154,
   "metadata": {},
   "outputs": [],
   "source": [
    "from scipy.signal import medfilt"
   ]
  },
  {
   "cell_type": "code",
   "execution_count": 156,
   "metadata": {},
   "outputs": [],
   "source": [
    "from scipy.interpolate import interp1d"
   ]
  },
  {
   "cell_type": "code",
   "execution_count": 299,
   "metadata": {},
   "outputs": [],
   "source": [
    "def average_spectrum(i):\n",
    "    \n",
    "    '''\n",
    "    Function that calculates the average power spectrum from the N samples that we took\n",
    "    We do this to reduce the noise in the power spectrum\n",
    "    \n",
    "    Parameters\n",
    "    ----------\n",
    "    \n",
    "    hdu: the hdu for the data we are tyring to find the average power spectrum for\n",
    "    N: the number of integrated samples we took\n",
    "    \n",
    "    Output\n",
    "    ----------\n",
    "    \n",
    "    avg: this is the averaged power spectrum over the N samples\n",
    "    '''\n",
    "    \n",
    "    filename = spec_files[i]\n",
    "    hdu = fits.open(filename)\n",
    "    \n",
    "    l = hdu[0].header['L']\n",
    "    b = hdu[0].header['B']\n",
    "    RA = hdu[0].header['RA']\n",
    "    DEC = hdu[0].header['DEC']\n",
    "    JD = hdu[0].header['JD']\n",
    "    \n",
    "    N = Num_Spec(hdu)  \n",
    "    \n",
    "    #this is a counter variable for the while loop\n",
    "    M = 1\n",
    "    \n",
    "    #variable that will hold the averaged power spectrum for one polarization and another\n",
    "    data = 0\n",
    "    data_pol = 0\n",
    "    \n",
    "    #while loop that does the summation\n",
    "    while M <= N:\n",
    "        \n",
    "        data += hdu[M].data['auto0_real']\n",
    "        data_pol += hdu[M].data['auto1_real']\n",
    "        M+=1\n",
    "           \n",
    "    \n",
    "    #calculates the average of each power spectrum\n",
    "    avg = data/N\n",
    "    avg_pol = data_pol/N\n",
    "    \n",
    "    #averaging the spectrum \n",
    "    sum_avg = (avg + avg_pol)/2\n",
    "    \n",
    "    spec = medfilt(sum_avg, kernel_size =5) * G\n",
    "    \n",
    "    freq = frequency(hdu, spec)\n",
    "    \n",
    "    max_i = np.argmax(spec)\n",
    "    \n",
    "    filt = np.ones(len(spec), dtype = bool)\n",
    "    \n",
    "    for i in range(len(spec)):\n",
    "        if i >= max_i - 500 and i <= max_i + 500:\n",
    "            filt[i] = False\n",
    "            \n",
    "    f = interp1d(np.fft.fftshift(freq)[filt], spec[filt], kind = 'linear')\n",
    "    \n",
    "    ynew = f(np.fft.fftshift(freq))\n",
    "    \n",
    "    new_spec = spec - ynew\n",
    "    \n",
    "    \n",
    "    freq_vel = freq.copy() * 1e6 + 1270e6 # add on the LO that reduces our signal\n",
    "    #print(freq_vel)\n",
    "    nu = 1420.405751786e6 #MHz\n",
    "    delta_nu = freq_vel - nu\n",
    "    c = 3 * (10**8)\n",
    "    v = -(delta_nu / nu) * c\n",
    "\n",
    "    doppler_v = get_projected_velocity(RA, DEC, JD) \n",
    "    \n",
    "    \n",
    "    \n",
    "    '''\n",
    "    plt.figure(figsize = (12,8))\n",
    "    plt.title('Galactic Coordinate: ' + str(round(l, 3)) +',' + str(round(b,3)), fontsize = 15, weight = 'semibold')\n",
    "    plt.xlabel(r'Frequency $\\nu$', fontsize = 15, weight = 'semibold')\n",
    "    plt.ylabel(r'Power Spectrum', fontsize = 15, weight = 'semibold')\n",
    "    plt.plot(np.fft.fftshift(freq), new_spec, label = 'Signal')\n",
    "    plt.xlim(145,155)\n",
    "    plt.axvline(150.4057518, linestyle='--')\n",
    "    #plt.plot(np.fft.fftshift(freq), ynew, label = 'Interp')\n",
    "    plt.legend()\n",
    "    '''\n",
    "    \n",
    "    max_index = np.argmax(new_spec)\n",
    "    \n",
    "    fig = plt.figure(figsize = (12, 8))\n",
    "    plt.plot(np.fft.fftshift(v)/1000, new_spec, label = 'Rest Velocity', color='orange')\n",
    "    plt.plot(np.fft.fftshift(v - doppler_v)/1000, new_spec, label = 'Doppler Velocity', color='b')\n",
    "    plt.legend(loc='best')\n",
    "    \n",
    "    \n",
    "    plt.xlim(-400,400)\n",
    "    plt.axvline(np.fft.fftshift(v)[max_index]/1000)\n",
    "    plt.axvline(np.fft.fftshift(v - doppler_v)[max_index]/1000)\n",
    "    plt.xlabel('Velocity (km/s)', fontsize=12)\n",
    "    plt.ylabel('Power', fontsize=12)\n",
    "    plt.title('Doppler', fontweight='bold', fontsize=15)\n",
    "    print('Rest Velocity: ', np.fft.fftshift(v)[max_index]/1000)\n",
    "    print('Doppler Velocity: ', np.fft.fftshift(v - doppler_v)[max_index]/1000)"
   ]
  },
  {
   "cell_type": "code",
   "execution_count": 187,
   "metadata": {},
   "outputs": [],
   "source": [
    "from ipywidgets import interactive"
   ]
  },
  {
   "cell_type": "code",
   "execution_count": 300,
   "metadata": {},
   "outputs": [
    {
     "data": {
      "application/vnd.jupyter.widget-view+json": {
       "model_id": "8f7e5a742af74db1a225124da4b9e43d",
       "version_major": 2,
       "version_minor": 0
      },
      "text/plain": [
       "interactive(children=(IntSlider(value=5, description='i', max=11), Output()), _dom_classes=('widget-interact',…"
      ]
     },
     "metadata": {},
     "output_type": "display_data"
    }
   ],
   "source": [
    "interactive_plot = interactive(average_spectrum, i = (0, len(spec_files)-1))\n",
    "interactive_plot"
   ]
  },
  {
   "cell_type": "code",
   "execution_count": 218,
   "metadata": {},
   "outputs": [
    {
     "ename": "SyntaxError",
     "evalue": "invalid syntax (<ipython-input-218-70de19b858b2>, line 21)",
     "output_type": "error",
     "traceback": [
      "\u001b[0;36m  File \u001b[0;32m\"<ipython-input-218-70de19b858b2>\"\u001b[0;36m, line \u001b[0;32m21\u001b[0m\n\u001b[0;31m    matrix[row_index, column_index] = #DATA THAT NEEEDS TO BE APPENDED TO THE SPECIFIED LOCATION\u001b[0m\n\u001b[0m                                                                                                ^\u001b[0m\n\u001b[0;31mSyntaxError\u001b[0m\u001b[0;31m:\u001b[0m invalid syntax\n"
     ]
    }
   ],
   "source": [
    "def splitting_filename(filename):\n",
    "    \n",
    "    #loops through the filenames of the data that we gathered\n",
    "    for i in filename:\n",
    "        hdu = fits.open(i)\n",
    "        f_split = i.split('.')\n",
    "        \n",
    "        #getting only the l and b because that is all that we need\n",
    "        l = f_split[2]\n",
    "        b = f_split[3]\n",
    "        \n",
    "        N = 0\n",
    "        for m in range(len(lb_val)):\n",
    "            \n",
    "            if l == str(lb_val[m][0]) and b == str(lb_val[m][1]):\n",
    "                row_index = indexes[m][0]\n",
    "                column_index = indexes[m][1]\n",
    "                \n",
    "                average_spectrum(hdu)\n",
    "                \n",
    "                matrix[row_index, column_index] = #DATA THAT NEEEDS TO BE APPENDED TO THE SPECIFIED LOCATION\n",
    "                N+=1\n",
    "        \n",
    "    print(matrix)    "
   ]
  },
  {
   "cell_type": "code",
   "execution_count": 217,
   "metadata": {},
   "outputs": [
    {
     "ename": "NameError",
     "evalue": "name 'splitting_filename' is not defined",
     "output_type": "error",
     "traceback": [
      "\u001b[0;31m---------------------------------------------------------------------------\u001b[0m",
      "\u001b[0;31mNameError\u001b[0m                                 Traceback (most recent call last)",
      "\u001b[0;32m<ipython-input-217-1507b69a79e5>\u001b[0m in \u001b[0;36m<module>\u001b[0;34m\u001b[0m\n\u001b[0;32m----> 1\u001b[0;31m \u001b[0msplitting_filename\u001b[0m\u001b[0;34m(\u001b[0m\u001b[0mfiles\u001b[0m\u001b[0;34m)\u001b[0m\u001b[0;34m\u001b[0m\u001b[0;34m\u001b[0m\u001b[0m\n\u001b[0m",
      "\u001b[0;31mNameError\u001b[0m: name 'splitting_filename' is not defined"
     ]
    }
   ],
   "source": [
    "splitting_filename(files)"
   ]
  },
  {
   "cell_type": "code",
   "execution_count": null,
   "metadata": {},
   "outputs": [],
   "source": []
  }
 ],
 "metadata": {
  "kernelspec": {
   "display_name": "Python 3",
   "language": "python",
   "name": "python3"
  },
  "language_info": {
   "codemirror_mode": {
    "name": "ipython",
    "version": 3
   },
   "file_extension": ".py",
   "mimetype": "text/x-python",
   "name": "python",
   "nbconvert_exporter": "python",
   "pygments_lexer": "ipython3",
   "version": "3.7.1"
  }
 },
 "nbformat": 4,
 "nbformat_minor": 2
}
